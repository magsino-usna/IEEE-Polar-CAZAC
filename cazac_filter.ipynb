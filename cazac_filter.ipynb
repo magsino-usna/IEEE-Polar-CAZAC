{
 "cells": [
  {
   "cell_type": "code",
   "execution_count": 1,
   "metadata": {},
   "outputs": [],
   "source": [
    "import numpy as np"
   ]
  },
  {
   "cell_type": "code",
   "execution_count": 2,
   "metadata": {},
   "outputs": [
    {
     "data": {
      "text/plain": [
       "array([[-0.62622228+7.79644573e-01j,  0.96747578+2.52963656e-01j,\n",
       "         0.56628553-8.24209138e-01j, ...,  0.22593172-9.74143140e-01j,\n",
       "        -0.22252092-9.74927915e-01j, -0.99305589-1.17643519e-01j],\n",
       "       [ 0.80991035-5.86553680e-01j,  0.14372932+9.89617039e-01j,\n",
       "        -0.71858723-6.95436839e-01j, ...,  0.56256719-8.26751568e-01j,\n",
       "        -0.95530387+2.95625619e-01j, -0.42363862+9.05831286e-01j],\n",
       "       [-0.45746162-8.89229367e-01j,  0.31595757+9.48773320e-01j,\n",
       "         0.22651743+9.74007112e-01j, ..., -0.45746164-8.89229355e-01j,\n",
       "         1.        +6.05105603e-08j, -0.80091391+5.98779519e-01j],\n",
       "       ...,\n",
       "       [ 0.80339419-5.95447546e-01j, -0.25531029+9.66859171e-01j,\n",
       "         0.05770978+9.98333402e-01j, ..., -0.8116817 +5.84100004e-01j,\n",
       "        -0.6590838 -7.52069511e-01j, -0.52361287+8.51956317e-01j],\n",
       "       [-0.98560678+1.69054071e-01j, -0.6128934 +7.90165604e-01j,\n",
       "         0.53479848-8.44979636e-01j, ...,  0.91193514+4.10334374e-01j,\n",
       "         0.59126177+8.06479708e-01j,  0.99568382+9.28102266e-02j],\n",
       "       [-0.42470488+9.05331853e-01j,  0.69034203-7.23483156e-01j,\n",
       "        -0.43444436-9.00698673e-01j, ..., -0.7818316 +6.23489655e-01j,\n",
       "         0.61334444+7.89815546e-01j, -0.42221643-9.06495054e-01j]])"
      ]
     },
     "execution_count": 2,
     "metadata": {},
     "output_type": "execute_result"
    }
   ],
   "source": [
    "np.loadtxt('unique_cazac_length14_sim200000_batch1.csv',dtype=complex)"
   ]
  },
  {
   "cell_type": "code",
   "execution_count": 5,
   "metadata": {},
   "outputs": [
    {
     "name": "stdout",
     "output_type": "stream",
     "text": [
      "77920\n",
      "77966\n",
      "77902\n",
      "77947\n",
      "77982\n",
      "77961\n",
      "77951\n",
      "77958\n",
      "Total number of CAZACs: 623587\n"
     ]
    }
   ],
   "source": [
    "n = 14\n",
    "batches = 8\n",
    "cazacs = np.loadtxt(f'unique_cazac_length{n}_sim1000000_batch1.csv',dtype=complex)\n",
    "print((len(cazacs[:,0])))\n",
    "for i in np.arange(2,batches+1):\n",
    "    A = np.loadtxt(f'unique_cazac_length{n}_sim1000000_batch{i}.csv',dtype=complex)\n",
    "    print(len(A[:,0]))\n",
    "    cazacs = np.vstack((cazacs,A))\n",
    "num_cazacs = len(cazacs[:,0])\n",
    "print(f'Total number of CAZACs: {num_cazacs}')"
   ]
  },
  {
   "cell_type": "code",
   "execution_count": 4,
   "metadata": {},
   "outputs": [],
   "source": [
    "def cazac_filter(arr, tol=10**(-3), max_iter=10000):\n",
    "    index_len = 10000\n",
    "    iters = 0\n",
    "    out = np.ones((1,len(arr[0,:])),dtype=complex)\n",
    "    remain = arr[:,:]\n",
    "    while index_len > 0 and iters < max_iter:\n",
    "        index = np.where(np.sum(np.abs(remain-remain[0,:])>tol,axis=1))[0]\n",
    "        if len(index) > 0:\n",
    "            out = np.vstack((out,remain[0,:]))\n",
    "            remain = remain[index,:]\n",
    "            iters += 1\n",
    "        else:\n",
    "            out = np.vstack((out,remain[0,:]))\n",
    "            index_len = 0\n",
    "    return out[1:,:]"
   ]
  },
  {
   "cell_type": "code",
   "execution_count": 11,
   "metadata": {},
   "outputs": [
    {
     "name": "stdout",
     "output_type": "stream",
     "text": [
      "Unique CAZACs found (round): 100000\n"
     ]
    }
   ],
   "source": [
    "#subsample_size = 500000\n",
    "#choice = np.arange(625000)\n",
    "#choice = np.random.choice(np.arange(num_cazacs),size=subsample_size)\n",
    "unique_cazacs = cazac_filter(cazacs[:,:],tol=10**(-4),max_iter=int(100000))\n",
    "print(f'Unique CAZACs found (round): {len(unique_cazacs[:,0])}')\n"
   ]
  },
  {
   "cell_type": "code",
   "execution_count": 6,
   "metadata": {},
   "outputs": [],
   "source": [
    "np.savetxt('cazac_filter14.csv',unique_cazacs)"
   ]
  },
  {
   "cell_type": "code",
   "execution_count": 64,
   "metadata": {},
   "outputs": [
    {
     "name": "stdout",
     "output_type": "stream",
     "text": [
      "48650\n"
     ]
    }
   ],
   "source": [
    "sample_size = 200000\n",
    "choice = np.random.choice(np.arange(len(A[:,0])),size=sample_size)\n",
    "B = cazac_filter(np.exp(2*np.pi*1j*A[choice,:]),tol=10**(-4),max_iter=int(sample_size/2))\n",
    "print(len(B[:,0]))"
   ]
  }
 ],
 "metadata": {
  "kernelspec": {
   "display_name": "base",
   "language": "python",
   "name": "python3"
  },
  "language_info": {
   "codemirror_mode": {
    "name": "ipython",
    "version": 3
   },
   "file_extension": ".py",
   "mimetype": "text/x-python",
   "name": "python",
   "nbconvert_exporter": "python",
   "pygments_lexer": "ipython3",
   "version": "3.9.12"
  },
  "orig_nbformat": 4
 },
 "nbformat": 4,
 "nbformat_minor": 2
}
